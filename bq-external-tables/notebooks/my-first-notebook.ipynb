{
 "cells": [
  {
   "cell_type": "markdown",
   "id": "bbbbef0f-6ca5-44c9-b3cd-8c3bd33f4936",
   "metadata": {},
   "source": [
    "# My first notebook\n",
    "\n",
    "## Authenticate with Google Big Query\n",
    "Use the `gcloud` cli to setup an authenticated session with Google Cloud and Big Query.  The following uses the default browser style login method to activate GCP credentials.\n",
    "```\n",
    "gcloud auth application-default\n",
    "\n",
    "gcloud config set project <gcp-project-name>\n",
    "```\n",
    "\n",
    "## References\n",
    "* https://cloud.google.com/python/docs/reference/bigquery/latest/magics"
   ]
  },
  {
   "cell_type": "code",
   "execution_count": 1,
   "id": "7dc71143-aee0-4dcb-8b94-12277ace3ea6",
   "metadata": {},
   "outputs": [],
   "source": [
    "# load the BigQuery notebook magic\n",
    "%load_ext google.cloud.bigquery"
   ]
  },
  {
   "cell_type": "code",
   "execution_count": 2,
   "id": "c542a20d-192b-46af-b8c1-6fdcd1fd0799",
   "metadata": {},
   "outputs": [
    {
     "data": {
      "application/vnd.jupyter.widget-view+json": {
       "model_id": "0e937e1d8ace4d63b3fbf5952f9200f9",
       "version_major": 2,
       "version_minor": 0
      },
      "text/plain": [
       "Query is running:   0%|          |"
      ]
     },
     "metadata": {},
     "output_type": "display_data"
    },
    {
     "data": {
      "application/vnd.jupyter.widget-view+json": {
       "model_id": "fbca4c3e1c3c46fe9b2a1d6ed490fdc0",
       "version_major": 2,
       "version_minor": 0
      },
      "text/plain": [
       "Downloading:   0%|          |"
      ]
     },
     "metadata": {},
     "output_type": "display_data"
    },
    {
     "data": {
      "text/html": [
       "<div>\n",
       "<style scoped>\n",
       "    .dataframe tbody tr th:only-of-type {\n",
       "        vertical-align: middle;\n",
       "    }\n",
       "\n",
       "    .dataframe tbody tr th {\n",
       "        vertical-align: top;\n",
       "    }\n",
       "\n",
       "    .dataframe thead th {\n",
       "        text-align: right;\n",
       "    }\n",
       "</style>\n",
       "<table border=\"1\" class=\"dataframe\">\n",
       "  <thead>\n",
       "    <tr style=\"text-align: right;\">\n",
       "      <th></th>\n",
       "      <th>customer_id</th>\n",
       "      <th>txn_id</th>\n",
       "      <th>txn_dts</th>\n",
       "      <th>order_id</th>\n",
       "      <th>amount</th>\n",
       "      <th>insert_dts</th>\n",
       "      <th>src_filename</th>\n",
       "    </tr>\n",
       "  </thead>\n",
       "  <tbody>\n",
       "    <tr>\n",
       "      <th>0</th>\n",
       "      <td>3584</td>\n",
       "      <td>741</td>\n",
       "      <td>2023-07-01 09:36:56+00:00</td>\n",
       "      <td>9402</td>\n",
       "      <td>891.010000000</td>\n",
       "      <td>2023-10-04 07:35:16.636845+00:00</td>\n",
       "      <td>gs://gamma-data-with-bq/gamma-mart/purchase-tx...</td>\n",
       "    </tr>\n",
       "    <tr>\n",
       "      <th>1</th>\n",
       "      <td>5888</td>\n",
       "      <td>8400</td>\n",
       "      <td>2023-04-04 07:44:53+00:00</td>\n",
       "      <td>7822</td>\n",
       "      <td>908.920000000</td>\n",
       "      <td>2023-10-04 07:35:16.636845+00:00</td>\n",
       "      <td>gs://gamma-data-with-bq/gamma-mart/purchase-tx...</td>\n",
       "    </tr>\n",
       "    <tr>\n",
       "      <th>2</th>\n",
       "      <td>6400</td>\n",
       "      <td>440</td>\n",
       "      <td>2023-08-17 03:23:49+00:00</td>\n",
       "      <td>8742</td>\n",
       "      <td>86.140000000</td>\n",
       "      <td>2023-10-04 07:35:16.636845+00:00</td>\n",
       "      <td>gs://gamma-data-with-bq/gamma-mart/purchase-tx...</td>\n",
       "    </tr>\n",
       "    <tr>\n",
       "      <th>3</th>\n",
       "      <td>9472</td>\n",
       "      <td>3031</td>\n",
       "      <td>2023-06-22 21:48:29+00:00</td>\n",
       "      <td>9619</td>\n",
       "      <td>95.340000000</td>\n",
       "      <td>2023-10-04 07:35:16.636845+00:00</td>\n",
       "      <td>gs://gamma-data-with-bq/gamma-mart/purchase-tx...</td>\n",
       "    </tr>\n",
       "    <tr>\n",
       "      <th>4</th>\n",
       "      <td>769</td>\n",
       "      <td>6089</td>\n",
       "      <td>2022-02-23 12:57:00+00:00</td>\n",
       "      <td>1619</td>\n",
       "      <td>358.050000000</td>\n",
       "      <td>2023-10-04 07:35:16.636845+00:00</td>\n",
       "      <td>gs://gamma-data-with-bq/gamma-mart/purchase-tx...</td>\n",
       "    </tr>\n",
       "  </tbody>\n",
       "</table>\n",
       "</div>"
      ],
      "text/plain": [
       "   customer_id  txn_id                   txn_dts  order_id         amount  \\\n",
       "0         3584     741 2023-07-01 09:36:56+00:00      9402  891.010000000   \n",
       "1         5888    8400 2023-04-04 07:44:53+00:00      7822  908.920000000   \n",
       "2         6400     440 2023-08-17 03:23:49+00:00      8742   86.140000000   \n",
       "3         9472    3031 2023-06-22 21:48:29+00:00      9619   95.340000000   \n",
       "4          769    6089 2022-02-23 12:57:00+00:00      1619  358.050000000   \n",
       "\n",
       "                        insert_dts  \\\n",
       "0 2023-10-04 07:35:16.636845+00:00   \n",
       "1 2023-10-04 07:35:16.636845+00:00   \n",
       "2 2023-10-04 07:35:16.636845+00:00   \n",
       "3 2023-10-04 07:35:16.636845+00:00   \n",
       "4 2023-10-04 07:35:16.636845+00:00   \n",
       "\n",
       "                                        src_filename  \n",
       "0  gs://gamma-data-with-bq/gamma-mart/purchase-tx...  \n",
       "1  gs://gamma-data-with-bq/gamma-mart/purchase-tx...  \n",
       "2  gs://gamma-data-with-bq/gamma-mart/purchase-tx...  \n",
       "3  gs://gamma-data-with-bq/gamma-mart/purchase-tx...  \n",
       "4  gs://gamma-data-with-bq/gamma-mart/purchase-tx...  "
      ]
     },
     "execution_count": 2,
     "metadata": {},
     "output_type": "execute_result"
    }
   ],
   "source": [
    "%%bigquery\n",
    "SELECT * FROM `data-pipeline-tools.gamma_mart.purchase_txn` limit 5"
   ]
  },
  {
   "cell_type": "code",
   "execution_count": null,
   "id": "7fc12588-f113-47b8-8405-28375fd41c02",
   "metadata": {},
   "outputs": [],
   "source": []
  }
 ],
 "metadata": {
  "kernelspec": {
   "display_name": "Python 3 (ipykernel)",
   "language": "python",
   "name": "python3"
  },
  "language_info": {
   "codemirror_mode": {
    "name": "ipython",
    "version": 3
   },
   "file_extension": ".py",
   "mimetype": "text/x-python",
   "name": "python",
   "nbconvert_exporter": "python",
   "pygments_lexer": "ipython3",
   "version": "3.9.13"
  }
 },
 "nbformat": 4,
 "nbformat_minor": 5
}
